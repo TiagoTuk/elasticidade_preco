{
 "cells": [
  {
   "cell_type": "markdown",
   "id": "2adb4626",
   "metadata": {},
   "source": [
    "# 0.0 Importd"
   ]
  },
  {
   "cell_type": "code",
   "execution_count": 28,
   "id": "563a6649",
   "metadata": {},
   "outputs": [],
   "source": [
    "import pandas as pd\n",
    "import inflection\n",
    "import numpy as np"
   ]
  },
  {
   "cell_type": "markdown",
   "id": "86d27797",
   "metadata": {},
   "source": [
    "## 0.1 Loading Data"
   ]
  },
  {
   "cell_type": "code",
   "execution_count": 12,
   "id": "ddf83c4f",
   "metadata": {},
   "outputs": [],
   "source": [
    "df_raw = pd.read_csv('../data/df_ready.csv')"
   ]
  },
  {
   "cell_type": "code",
   "execution_count": 13,
   "id": "17f5722c",
   "metadata": {},
   "outputs": [],
   "source": [
    "df_raw = df_raw.drop(columns={  'Unnamed: 0', 'Date_imp', 'Cluster', 'condition', 'sourceURLs', 'Date_imp_d.1', \n",
    "                                'Zscore_1', 'price_std', 'imageURLs', 'shipping', 'weight', 'currency'})"
   ]
  },
  {
   "cell_type": "code",
   "execution_count": 14,
   "id": "15052d47",
   "metadata": {},
   "outputs": [
    {
     "data": {
      "text/html": [
       "<div>\n",
       "<style scoped>\n",
       "    .dataframe tbody tr th:only-of-type {\n",
       "        vertical-align: middle;\n",
       "    }\n",
       "\n",
       "    .dataframe tbody tr th {\n",
       "        vertical-align: top;\n",
       "    }\n",
       "\n",
       "    .dataframe thead th {\n",
       "        text-align: right;\n",
       "    }\n",
       "</style>\n",
       "<table border=\"1\" class=\"dataframe\">\n",
       "  <thead>\n",
       "    <tr style=\"text-align: right;\">\n",
       "      <th></th>\n",
       "      <th>Date_imp_d</th>\n",
       "      <th>Category_name</th>\n",
       "      <th>name</th>\n",
       "      <th>price</th>\n",
       "      <th>disc_price</th>\n",
       "      <th>merchant</th>\n",
       "      <th>Disc_percentage</th>\n",
       "      <th>isSale</th>\n",
       "      <th>Imp_count</th>\n",
       "      <th>brand</th>\n",
       "      <th>p_description</th>\n",
       "      <th>dateAdded</th>\n",
       "      <th>dateSeen</th>\n",
       "      <th>dateUpdated</th>\n",
       "      <th>manufacturer</th>\n",
       "      <th>Day_n</th>\n",
       "      <th>month</th>\n",
       "      <th>month_n</th>\n",
       "      <th>day</th>\n",
       "      <th>Week_Number</th>\n",
       "    </tr>\n",
       "  </thead>\n",
       "  <tbody>\n",
       "    <tr>\n",
       "      <th>0</th>\n",
       "      <td>2017/12/14</td>\n",
       "      <td>speaker, portable, bluetooth</td>\n",
       "      <td>Boytone - 2500W 2.1-Ch. Home Theater System - ...</td>\n",
       "      <td>69.0</td>\n",
       "      <td>64.99</td>\n",
       "      <td>Walmart.com</td>\n",
       "      <td>0.06</td>\n",
       "      <td>Yes</td>\n",
       "      <td>1</td>\n",
       "      <td>Boytone</td>\n",
       "      <td>Stereos,Portable Bluetooth Speakers,TV, Video ...</td>\n",
       "      <td>2015-05-18T14:14:56Z</td>\n",
       "      <td>2017-12-14T06:00:00Z</td>\n",
       "      <td>2018-06-13T19:39:02Z</td>\n",
       "      <td>Boytone</td>\n",
       "      <td>Thursday</td>\n",
       "      <td>12</td>\n",
       "      <td>December</td>\n",
       "      <td>14</td>\n",
       "      <td>50</td>\n",
       "    </tr>\n",
       "  </tbody>\n",
       "</table>\n",
       "</div>"
      ],
      "text/plain": [
       "   Date_imp_d                 Category_name  \\\n",
       "0  2017/12/14  speaker, portable, bluetooth   \n",
       "\n",
       "                                                name  price  disc_price  \\\n",
       "0  Boytone - 2500W 2.1-Ch. Home Theater System - ...   69.0       64.99   \n",
       "\n",
       "      merchant  Disc_percentage isSale  Imp_count    brand  \\\n",
       "0  Walmart.com             0.06    Yes          1  Boytone   \n",
       "\n",
       "                                       p_description             dateAdded  \\\n",
       "0  Stereos,Portable Bluetooth Speakers,TV, Video ...  2015-05-18T14:14:56Z   \n",
       "\n",
       "               dateSeen           dateUpdated manufacturer     Day_n  month  \\\n",
       "0  2017-12-14T06:00:00Z  2018-06-13T19:39:02Z      Boytone  Thursday     12   \n",
       "\n",
       "    month_n  day  Week_Number  \n",
       "0  December   14           50  "
      ]
     },
     "execution_count": 14,
     "metadata": {},
     "output_type": "execute_result"
    }
   ],
   "source": [
    "df_raw.head(1)"
   ]
  },
  {
   "cell_type": "markdown",
   "id": "7137c1cf",
   "metadata": {},
   "source": [
    "# 1.0 Descrição dos Dados"
   ]
  },
  {
   "cell_type": "code",
   "execution_count": 15,
   "id": "9546906a",
   "metadata": {},
   "outputs": [],
   "source": [
    "df1 = df_raw.copy()"
   ]
  },
  {
   "cell_type": "markdown",
   "id": "0a6ba68c",
   "metadata": {},
   "source": [
    "## 1.1 Rename Columns"
   ]
  },
  {
   "cell_type": "code",
   "execution_count": 16,
   "id": "51d4647b",
   "metadata": {},
   "outputs": [
    {
     "data": {
      "text/plain": [
       "Index(['Date_imp_d', 'Category_name', 'name', 'price', 'disc_price',\n",
       "       'merchant', 'Disc_percentage', 'isSale', 'Imp_count', 'brand',\n",
       "       'p_description', 'dateAdded', 'dateSeen', 'dateUpdated', 'manufacturer',\n",
       "       'Day_n', 'month', 'month_n', 'day', 'Week_Number'],\n",
       "      dtype='object')"
      ]
     },
     "execution_count": 16,
     "metadata": {},
     "output_type": "execute_result"
    }
   ],
   "source": [
    "df1.columns"
   ]
  },
  {
   "cell_type": "code",
   "execution_count": 17,
   "id": "fe5c586e",
   "metadata": {},
   "outputs": [],
   "source": [
    "cols_old = ['Date_imp_d', 'Category_name', 'name', 'price', 'disc_price', 'merchant', 'Disc_percentage', 'isSale', 'Imp_count', \n",
    "            'brand', 'p_description', 'dateAdded', 'dateSeen', 'dateUpdated', 'manufacturer', 'Day_n', 'month', 'month_n', 'day', \n",
    "            'Week_Number']\n",
    "\n",
    "snakecase = lambda x: inflection.underscore( x )\n",
    "\n",
    "cols_new = list( map (snakecase, cols_old) )\n",
    "\n",
    "#Rename\n",
    "df1.columns = cols_new"
   ]
  },
  {
   "cell_type": "code",
   "execution_count": 18,
   "id": "82292032",
   "metadata": {},
   "outputs": [
    {
     "data": {
      "text/plain": [
       "Index(['date_imp_d', 'category_name', 'name', 'price', 'disc_price',\n",
       "       'merchant', 'disc_percentage', 'is_sale', 'imp_count', 'brand',\n",
       "       'p_description', 'date_added', 'date_seen', 'date_updated',\n",
       "       'manufacturer', 'day_n', 'month', 'month_n', 'day', 'week_number'],\n",
       "      dtype='object')"
      ]
     },
     "execution_count": 18,
     "metadata": {},
     "output_type": "execute_result"
    }
   ],
   "source": [
    "df1.columns"
   ]
  },
  {
   "cell_type": "markdown",
   "id": "3f5941d4",
   "metadata": {},
   "source": [
    "## 1.2. Data Dimensions"
   ]
  },
  {
   "cell_type": "code",
   "execution_count": 19,
   "id": "2568a5f7",
   "metadata": {},
   "outputs": [
    {
     "name": "stdout",
     "output_type": "stream",
     "text": [
      "Numero de Linhas: 23151\n",
      "Numero de Colunas: 20\n"
     ]
    }
   ],
   "source": [
    "print(f'Numero de Linhas: {df1.shape[0]}')\n",
    "print(f'Numero de Colunas: {df1.shape[1]}')"
   ]
  },
  {
   "cell_type": "markdown",
   "id": "71456e42",
   "metadata": {},
   "source": [
    "## 1.3. Data Types"
   ]
  },
  {
   "cell_type": "code",
   "execution_count": 20,
   "id": "c9941dc7",
   "metadata": {},
   "outputs": [
    {
     "data": {
      "text/plain": [
       "date_imp_d          object\n",
       "category_name       object\n",
       "name                object\n",
       "price              float64\n",
       "disc_price         float64\n",
       "merchant            object\n",
       "disc_percentage    float64\n",
       "is_sale             object\n",
       "imp_count            int64\n",
       "brand               object\n",
       "p_description       object\n",
       "date_added          object\n",
       "date_seen           object\n",
       "date_updated        object\n",
       "manufacturer        object\n",
       "day_n               object\n",
       "month                int64\n",
       "month_n             object\n",
       "day                  int64\n",
       "week_number          int64\n",
       "dtype: object"
      ]
     },
     "execution_count": 20,
     "metadata": {},
     "output_type": "execute_result"
    }
   ],
   "source": [
    "df1.dtypes"
   ]
  },
  {
   "cell_type": "markdown",
   "id": "30d1ba0d",
   "metadata": {},
   "source": [
    "## 1.4. Check NA"
   ]
  },
  {
   "cell_type": "code",
   "execution_count": 21,
   "id": "2a6628d6",
   "metadata": {},
   "outputs": [
    {
     "data": {
      "text/plain": [
       "date_imp_d             0\n",
       "category_name          0\n",
       "name                   0\n",
       "price                  0\n",
       "disc_price             0\n",
       "merchant               0\n",
       "disc_percentage        0\n",
       "is_sale                0\n",
       "imp_count              0\n",
       "brand                  0\n",
       "p_description          0\n",
       "date_added             0\n",
       "date_seen              0\n",
       "date_updated           0\n",
       "manufacturer       10639\n",
       "day_n                  0\n",
       "month                  0\n",
       "month_n                0\n",
       "day                    0\n",
       "week_number            0\n",
       "dtype: int64"
      ]
     },
     "execution_count": 21,
     "metadata": {},
     "output_type": "execute_result"
    }
   ],
   "source": [
    "df1.isna().sum()"
   ]
  },
  {
   "cell_type": "markdown",
   "id": "085e749a",
   "metadata": {},
   "source": [
    "## 1.5. Change Types"
   ]
  },
  {
   "cell_type": "code",
   "execution_count": 23,
   "id": "8b162d49",
   "metadata": {},
   "outputs": [],
   "source": [
    "df1['date_imp_d'] = pd.to_datetime(df1['date_imp_d'])"
   ]
  },
  {
   "cell_type": "code",
   "execution_count": 24,
   "id": "223d9265",
   "metadata": {},
   "outputs": [
    {
     "data": {
      "text/plain": [
       "date_imp_d         datetime64[ns]\n",
       "category_name              object\n",
       "name                       object\n",
       "price                     float64\n",
       "disc_price                float64\n",
       "merchant                   object\n",
       "disc_percentage           float64\n",
       "is_sale                    object\n",
       "imp_count                   int64\n",
       "brand                      object\n",
       "p_description              object\n",
       "date_added                 object\n",
       "date_seen                  object\n",
       "date_updated               object\n",
       "manufacturer               object\n",
       "day_n                      object\n",
       "month                       int64\n",
       "month_n                    object\n",
       "day                         int64\n",
       "week_number                 int64\n",
       "dtype: object"
      ]
     },
     "execution_count": 24,
     "metadata": {},
     "output_type": "execute_result"
    }
   ],
   "source": [
    "df1.dtypes"
   ]
  },
  {
   "cell_type": "markdown",
   "id": "17275103",
   "metadata": {},
   "source": [
    "## 1.6. Descriptive Statistical"
   ]
  },
  {
   "cell_type": "code",
   "execution_count": 26,
   "id": "0f64e08a",
   "metadata": {},
   "outputs": [],
   "source": [
    "num_attributes = df1.select_dtypes( include=['int64', 'float64'])\n",
    "cat_attributes = df1.select_dtypes( exclude=['int64', 'float64', 'datetime64[ns]'] )"
   ]
  },
  {
   "cell_type": "markdown",
   "id": "fc714c85",
   "metadata": {},
   "source": [
    "### 1.6.1. Numerical Attributes"
   ]
  },
  {
   "cell_type": "code",
   "execution_count": 29,
   "id": "c98853f6",
   "metadata": {},
   "outputs": [
    {
     "data": {
      "text/html": [
       "<div>\n",
       "<style scoped>\n",
       "    .dataframe tbody tr th:only-of-type {\n",
       "        vertical-align: middle;\n",
       "    }\n",
       "\n",
       "    .dataframe tbody tr th {\n",
       "        vertical-align: top;\n",
       "    }\n",
       "\n",
       "    .dataframe thead th {\n",
       "        text-align: right;\n",
       "    }\n",
       "</style>\n",
       "<table border=\"1\" class=\"dataframe\">\n",
       "  <thead>\n",
       "    <tr style=\"text-align: right;\">\n",
       "      <th></th>\n",
       "      <th>Atributos</th>\n",
       "      <th>min</th>\n",
       "      <th>max</th>\n",
       "      <th>intervalo</th>\n",
       "      <th>media</th>\n",
       "      <th>mediana</th>\n",
       "      <th>std</th>\n",
       "      <th>skew</th>\n",
       "      <th>kurtosis</th>\n",
       "    </tr>\n",
       "  </thead>\n",
       "  <tbody>\n",
       "    <tr>\n",
       "      <th>0</th>\n",
       "      <td>price</td>\n",
       "      <td>1.0</td>\n",
       "      <td>10879.95</td>\n",
       "      <td>10878.95</td>\n",
       "      <td>513.037803</td>\n",
       "      <td>199.99</td>\n",
       "      <td>859.091448</td>\n",
       "      <td>4.595160</td>\n",
       "      <td>34.411146</td>\n",
       "    </tr>\n",
       "    <tr>\n",
       "      <th>1</th>\n",
       "      <td>disc_price</td>\n",
       "      <td>1.0</td>\n",
       "      <td>10879.95</td>\n",
       "      <td>10878.95</td>\n",
       "      <td>494.104295</td>\n",
       "      <td>199.00</td>\n",
       "      <td>808.571509</td>\n",
       "      <td>4.748349</td>\n",
       "      <td>39.612839</td>\n",
       "    </tr>\n",
       "    <tr>\n",
       "      <th>2</th>\n",
       "      <td>disc_percentage</td>\n",
       "      <td>0.0</td>\n",
       "      <td>0.80</td>\n",
       "      <td>0.80</td>\n",
       "      <td>0.016933</td>\n",
       "      <td>0.00</td>\n",
       "      <td>0.077847</td>\n",
       "      <td>5.217632</td>\n",
       "      <td>28.754920</td>\n",
       "    </tr>\n",
       "    <tr>\n",
       "      <th>3</th>\n",
       "      <td>imp_count</td>\n",
       "      <td>1.0</td>\n",
       "      <td>31.00</td>\n",
       "      <td>30.00</td>\n",
       "      <td>6.560926</td>\n",
       "      <td>5.00</td>\n",
       "      <td>5.403049</td>\n",
       "      <td>1.286351</td>\n",
       "      <td>1.639569</td>\n",
       "    </tr>\n",
       "    <tr>\n",
       "      <th>4</th>\n",
       "      <td>month</td>\n",
       "      <td>1.0</td>\n",
       "      <td>12.00</td>\n",
       "      <td>11.00</td>\n",
       "      <td>7.651030</td>\n",
       "      <td>8.00</td>\n",
       "      <td>2.592787</td>\n",
       "      <td>-0.099417</td>\n",
       "      <td>-0.628859</td>\n",
       "    </tr>\n",
       "    <tr>\n",
       "      <th>5</th>\n",
       "      <td>day</td>\n",
       "      <td>1.0</td>\n",
       "      <td>31.00</td>\n",
       "      <td>30.00</td>\n",
       "      <td>15.693879</td>\n",
       "      <td>16.00</td>\n",
       "      <td>9.681413</td>\n",
       "      <td>0.032258</td>\n",
       "      <td>-1.331838</td>\n",
       "    </tr>\n",
       "    <tr>\n",
       "      <th>6</th>\n",
       "      <td>week_number</td>\n",
       "      <td>1.0</td>\n",
       "      <td>51.00</td>\n",
       "      <td>50.00</td>\n",
       "      <td>31.342750</td>\n",
       "      <td>32.00</td>\n",
       "      <td>11.316253</td>\n",
       "      <td>-0.266980</td>\n",
       "      <td>-0.648027</td>\n",
       "    </tr>\n",
       "  </tbody>\n",
       "</table>\n",
       "</div>"
      ],
      "text/plain": [
       "         Atributos  min       max  intervalo       media  mediana         std  \\\n",
       "0            price  1.0  10879.95   10878.95  513.037803   199.99  859.091448   \n",
       "1       disc_price  1.0  10879.95   10878.95  494.104295   199.00  808.571509   \n",
       "2  disc_percentage  0.0      0.80       0.80    0.016933     0.00    0.077847   \n",
       "3        imp_count  1.0     31.00      30.00    6.560926     5.00    5.403049   \n",
       "4            month  1.0     12.00      11.00    7.651030     8.00    2.592787   \n",
       "5              day  1.0     31.00      30.00   15.693879    16.00    9.681413   \n",
       "6      week_number  1.0     51.00      50.00   31.342750    32.00   11.316253   \n",
       "\n",
       "       skew   kurtosis  \n",
       "0  4.595160  34.411146  \n",
       "1  4.748349  39.612839  \n",
       "2  5.217632  28.754920  \n",
       "3  1.286351   1.639569  \n",
       "4 -0.099417  -0.628859  \n",
       "5  0.032258  -1.331838  \n",
       "6 -0.266980  -0.648027  "
      ]
     },
     "execution_count": 29,
     "metadata": {},
     "output_type": "execute_result"
    }
   ],
   "source": [
    "# Tendencia Central - media, mediana\n",
    "ct1 = pd.DataFrame( num_attributes.apply( np.mean) ).T  # media\n",
    "ct2 = pd.DataFrame( num_attributes.apply( np.median) ).T # mediana\n",
    "\n",
    "\n",
    "# Disperção - desvio padrão, min, max, intervalo, skew, kurtosis\n",
    "d1 = pd.DataFrame( num_attributes.apply( np.std) ).T                              # desvio padrão\n",
    "d2 = pd.DataFrame( num_attributes.apply( min ) ).T                           # minimo\n",
    "d3 = pd.DataFrame( num_attributes.apply( max ) ).T                           # maximo\n",
    "d4 = pd.DataFrame( num_attributes.apply( lambda x: x.max() - x.min() ) ).T     # intervalo\n",
    "d5 = pd.DataFrame( num_attributes.apply( lambda x: x.skew() ) ).T              # skew\n",
    "d6 = pd.DataFrame( num_attributes.apply( lambda x: x.kurtosis() ) ).T          # kurtosis\n",
    "\n",
    "# Concatenar os resultados\n",
    "m1 = pd.concat( [d2, d3, d4, ct1, ct2, d1, d5, d6]).T.reset_index()\n",
    "m1.columns = ['Atributos', 'min', 'max', 'intervalo', 'media', 'mediana', 'std', 'skew', 'kurtosis']\n",
    "m1"
   ]
  }
 ],
 "metadata": {
  "kernelspec": {
   "display_name": "elasticidade",
   "language": "python",
   "name": "python3"
  },
  "language_info": {
   "codemirror_mode": {
    "name": "ipython",
    "version": 3
   },
   "file_extension": ".py",
   "mimetype": "text/x-python",
   "name": "python",
   "nbconvert_exporter": "python",
   "pygments_lexer": "ipython3",
   "version": "3.10.16"
  }
 },
 "nbformat": 4,
 "nbformat_minor": 5
}
